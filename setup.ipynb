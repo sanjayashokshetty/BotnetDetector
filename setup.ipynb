{
 "cells": [
  {
   "cell_type": "code",
   "execution_count": 1,
   "metadata": {},
   "outputs": [],
   "source": [
    "from scapy.all import PcapReader, IP, PcapWriter\n",
    "from itertools import islice\n",
    "iterator = PcapReader(\"ISOT_Botnet_DataSet_2010.pcap\")\n"
   ]
  },
  {
   "cell_type": "code",
   "execution_count": 2,
   "metadata": {},
   "outputs": [],
   "source": [
    "# # 172.16.0.12:1036 64.95.58.150:80 proto : 6\n",
    "\n",
    "# def make_flow(srcIp, dstIP, srcp, dstp, protocol):\n",
    "#     flow = {}\n",
    "#     forward = (srcIp, dstIP, srcp, dstp, protocol)\n",
    "#     backward = (dstIP, srcIp, dstp, srcp, protocol)\n",
    "#     flow[forward] = []\n",
    "#     flow[backward] = []\n",
    "#     for pkt in islice(iterator, 10000):\n",
    "#         if IP in pkt:\n",
    "#             if pkt[IP].proto == protocol:\n",
    "#                 if srcIp == pkt[IP].src and dstIP == pkt[IP].dst and srcp == pkt[IP].sport and dstp == pkt[IP].dport:\n",
    "#                     flow[forward].append(pkt[IP])\n",
    "#                 if dstIP == pkt[IP].src and srcIp == pkt[IP].dst and srcp == pkt[IP].dport and dstp == pkt[IP].sport:\n",
    "#                     flow[backward].append(pkt[IP])\n",
    "\n",
    "#     for pkt in flow[forward]:\n",
    "#         print(pkt[IP].summary())\n",
    "#     for pkt in flow[backward]:\n",
    "#         print(pkt[IP].summary())\n"
   ]
  },
  {
   "cell_type": "code",
   "execution_count": 3,
   "metadata": {},
   "outputs": [],
   "source": [
    "#make_flow('172.16.0.12', '64.95.58.150', 1036, 80, 6)"
   ]
  },
  {
   "cell_type": "code",
   "execution_count": 4,
   "metadata": {},
   "outputs": [],
   "source": [
    "# def plot_size(ip):\n",
    "#     packets = []\n",
    "#     for pkt in islice(iterator, 1000):\n",
    "#         if IP in pkt:\n",
    "#             if pkt[IP].src == ip or pkt[IP].dst == ip:\n",
    "#                 packets.append(pkt[IP])\n",
    "#                 print(pkt[IP].summary())\n",
    "#     print(len(packets))"
   ]
  },
  {
   "cell_type": "code",
   "execution_count": 5,
   "metadata": {},
   "outputs": [],
   "source": [
    "# plot_size('172.16.0.12')\n"
   ]
  },
  {
   "cell_type": "code",
   "execution_count": 6,
   "metadata": {},
   "outputs": [],
   "source": [
    "# IP_set = set()\n",
    "# print(iterator)\n",
    "# for pkt in islice(iterator,100):\n",
    "#     if IP in pkt:\n",
    "#         if pkt['IP'].src == \"172.16.0.11\" or pkt['IP'].dst == \"172.16.0.11\":\n",
    "#             print(pkt['IP'].src,pkt['IP'].dst)\n",
    "#             print(\"Size is \" + pkt.sprintf(\"%IP.len%\"))\n",
    "#             pkt['IP'].show()\n",
    "#             if pkt['IP'].src[:7] == \"172.16.\":\n",
    "#                 IP_set.add(pkt['IP'].src)\n",
    "#             else:\n",
    "#                 IP_set.add(pkt['IP'].dst)\n",
    "#             # print('-'*90)\n",
    "\n",
    "# print(IP_set)"
   ]
  },
  {
   "cell_type": "code",
   "execution_count": 7,
   "metadata": {},
   "outputs": [],
   "source": [
    "IPs = [\n",
    "    '172.16.2.11',\n",
    "'172.16.0.2',\n",
    "'172.16.0.12',\n",
    "'172.16.2.2',\n",
    "'172.16.2.3',\n",
    "'172.16.2.11',\n",
    "'172.16.2.12',\n",
    "'172.16.2.12',\n",
    "'172.16.2.12',\n",
    "'172.16.2.13',\n",
    "'172.16.2.14',\n",
    "'172.16.2.111',\n",
    "'172.16.2.112',\n",
    "'172.16.2.113',\n",
    "'172.16.2.114',\n",
    "'172.16.0.11',\n",
    "]"
   ]
  },
  {
   "cell_type": "code",
   "execution_count": 8,
   "metadata": {},
   "outputs": [],
   "source": [
    "IP_set = set(IPs)"
   ]
  },
  {
   "cell_type": "code",
   "execution_count": 9,
   "metadata": {},
   "outputs": [
    {
     "data": {
      "text/plain": [
       "{'172.16.0.11',\n",
       " '172.16.0.12',\n",
       " '172.16.0.2',\n",
       " '172.16.2.11',\n",
       " '172.16.2.111',\n",
       " '172.16.2.112',\n",
       " '172.16.2.113',\n",
       " '172.16.2.114',\n",
       " '172.16.2.12',\n",
       " '172.16.2.13',\n",
       " '172.16.2.14',\n",
       " '172.16.2.2',\n",
       " '172.16.2.3'}"
      ]
     },
     "execution_count": 9,
     "metadata": {},
     "output_type": "execute_result"
    }
   ],
   "source": [
    "IP_set"
   ]
  },
  {
   "cell_type": "code",
   "execution_count": 10,
   "metadata": {},
   "outputs": [
    {
     "name": "stdout",
     "output_type": "stream",
     "text": [
      " 1057000\n"
     ]
    }
   ],
   "source": [
    "subnet = \"172.16.\"\n",
    "\n",
    "#\n",
    "\n",
    "file = {}\n",
    "\n",
    "for ip in IP_set:\n",
    "    file[ip] = PcapWriter(ip +\".pcap\", append=False, sync=True)\n",
    "\n",
    "\n",
    "total = 0\n",
    "try:\n",
    "    for pkt in PcapReader(\"./172-16-subnet.pcap\"):\n",
    "        total += 1\n",
    "        if IP in pkt:\n",
    "            if pkt[IP].src in IP_set:\n",
    "                file[pkt[IP].src].write(pkt)\n",
    "            if pkt[IP].dst in IP_set:\n",
    "                file[pkt[IP].dst].write(pkt)\n",
    "        if total % 1000 ==0:\n",
    "            print(\"\\r\", total, end=\"\")\n",
    "except KeyboardInterrupt:\n",
    "    pass\n",
    "finally:\n",
    "    for ip in file:\n",
    "        file[ip].close()\n",
    "\n",
    "print()"
   ]
  },
  {
   "cell_type": "code",
   "execution_count": 11,
   "metadata": {},
   "outputs": [],
   "source": [
    "# for pkt in PcapReader(\"./ips/172.16.2.12.pcap\"):\n",
    "#     print(pkt.summary())"
   ]
  },
  {
   "cell_type": "code",
   "execution_count": null,
   "metadata": {},
   "outputs": [],
   "source": []
  }
 ],
 "metadata": {
  "kernelspec": {
   "display_name": "Python 3",
   "language": "python",
   "name": "python3"
  },
  "language_info": {
   "codemirror_mode": {
    "name": "ipython",
    "version": 3
   },
   "file_extension": ".py",
   "mimetype": "text/x-python",
   "name": "python",
   "nbconvert_exporter": "python",
   "pygments_lexer": "ipython3",
   "version": "3.6.8"
  }
 },
 "nbformat": 4,
 "nbformat_minor": 2
}
