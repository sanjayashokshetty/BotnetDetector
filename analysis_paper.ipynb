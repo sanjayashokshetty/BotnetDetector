{
 "cells": [
  {
   "cell_type": "code",
   "execution_count": 23,
   "metadata": {},
   "outputs": [],
   "source": [
    "import pandas as pd\n",
    "df = pd.read_csv(\"Final.csv\").dropna()"
   ]
  },
  {
   "cell_type": "code",
   "execution_count": null,
   "metadata": {},
   "outputs": [],
   "source": [
    "corr = df.corr()\n",
    "corr.style.background_gradient(cmap='coolwarm')"
   ]
  },
  {
   "cell_type": "code",
   "execution_count": 24,
   "metadata": {},
   "outputs": [
    {
     "data": {
      "text/html": [
       "<div>\n",
       "<style scoped>\n",
       "    .dataframe tbody tr th:only-of-type {\n",
       "        vertical-align: middle;\n",
       "    }\n",
       "\n",
       "    .dataframe tbody tr th {\n",
       "        vertical-align: top;\n",
       "    }\n",
       "\n",
       "    .dataframe thead th {\n",
       "        text-align: right;\n",
       "    }\n",
       "</style>\n",
       "<table border=\"1\" class=\"dataframe\">\n",
       "  <thead>\n",
       "    <tr style=\"text-align: right;\">\n",
       "      <th></th>\n",
       "      <th>src</th>\n",
       "      <th>dst</th>\n",
       "      <th>sport</th>\n",
       "      <th>dport</th>\n",
       "      <th>proto</th>\n",
       "      <th>smallpacket</th>\n",
       "      <th>packetratio</th>\n",
       "      <th>initlen</th>\n",
       "      <th>Botresp</th>\n",
       "      <th>label</th>\n",
       "    </tr>\n",
       "  </thead>\n",
       "  <tbody>\n",
       "    <tr>\n",
       "      <th>0</th>\n",
       "      <td>172.16.0.12</td>\n",
       "      <td>198.155.242.22</td>\n",
       "      <td>1035</td>\n",
       "      <td>80</td>\n",
       "      <td>6</td>\n",
       "      <td>3</td>\n",
       "      <td>0.000000</td>\n",
       "      <td>48</td>\n",
       "      <td>1.000000</td>\n",
       "      <td>1.0</td>\n",
       "    </tr>\n",
       "    <tr>\n",
       "      <th>1</th>\n",
       "      <td>172.16.0.12</td>\n",
       "      <td>64.95.58.150</td>\n",
       "      <td>1036</td>\n",
       "      <td>80</td>\n",
       "      <td>6</td>\n",
       "      <td>5778</td>\n",
       "      <td>0.618034</td>\n",
       "      <td>48</td>\n",
       "      <td>0.618034</td>\n",
       "      <td>1.0</td>\n",
       "    </tr>\n",
       "    <tr>\n",
       "      <th>2</th>\n",
       "      <td>64.95.58.150</td>\n",
       "      <td>172.16.0.12</td>\n",
       "      <td>80</td>\n",
       "      <td>1036</td>\n",
       "      <td>6</td>\n",
       "      <td>9349</td>\n",
       "      <td>0.589054</td>\n",
       "      <td>48</td>\n",
       "      <td>0.629305</td>\n",
       "      <td>0.0</td>\n",
       "    </tr>\n",
       "    <tr>\n",
       "      <th>3</th>\n",
       "      <td>172.16.0.12</td>\n",
       "      <td>89.3.63.62</td>\n",
       "      <td>1038</td>\n",
       "      <td>80</td>\n",
       "      <td>6</td>\n",
       "      <td>5778</td>\n",
       "      <td>0.618034</td>\n",
       "      <td>48</td>\n",
       "      <td>0.618034</td>\n",
       "      <td>1.0</td>\n",
       "    </tr>\n",
       "    <tr>\n",
       "      <th>4</th>\n",
       "      <td>89.3.63.62</td>\n",
       "      <td>172.16.0.12</td>\n",
       "      <td>80</td>\n",
       "      <td>1038</td>\n",
       "      <td>6</td>\n",
       "      <td>9349</td>\n",
       "      <td>0.572159</td>\n",
       "      <td>48</td>\n",
       "      <td>0.636068</td>\n",
       "      <td>0.0</td>\n",
       "    </tr>\n",
       "  </tbody>\n",
       "</table>\n",
       "</div>"
      ],
      "text/plain": [
       "            src             dst  sport  dport  proto  smallpacket  \\\n",
       "0   172.16.0.12  198.155.242.22   1035     80      6            3   \n",
       "1   172.16.0.12    64.95.58.150   1036     80      6         5778   \n",
       "2  64.95.58.150     172.16.0.12     80   1036      6         9349   \n",
       "3   172.16.0.12      89.3.63.62   1038     80      6         5778   \n",
       "4    89.3.63.62     172.16.0.12     80   1038      6         9349   \n",
       "\n",
       "   packetratio  initlen   Botresp  label  \n",
       "0     0.000000       48  1.000000    1.0  \n",
       "1     0.618034       48  0.618034    1.0  \n",
       "2     0.589054       48  0.629305    0.0  \n",
       "3     0.618034       48  0.618034    1.0  \n",
       "4     0.572159       48  0.636068    0.0  "
      ]
     },
     "execution_count": 24,
     "metadata": {},
     "output_type": "execute_result"
    }
   ],
   "source": [
    "df.head()"
   ]
  },
  {
   "cell_type": "code",
   "execution_count": 25,
   "metadata": {},
   "outputs": [],
   "source": [
    "df_packet = df.drop(['src','dst','sport','dport'],1)"
   ]
  },
  {
   "cell_type": "code",
   "execution_count": 26,
   "metadata": {},
   "outputs": [
    {
     "name": "stdout",
     "output_type": "stream",
     "text": [
      "<class 'pandas.core.frame.DataFrame'>\n",
      "Int64Index: 128378 entries, 0 to 128384\n",
      "Data columns (total 6 columns):\n",
      "proto          128378 non-null int64\n",
      "smallpacket    128378 non-null int64\n",
      "packetratio    128378 non-null float64\n",
      "initlen        128378 non-null int64\n",
      "Botresp        128378 non-null float64\n",
      "label          128378 non-null float64\n",
      "dtypes: float64(3), int64(3)\n",
      "memory usage: 6.9 MB\n"
     ]
    }
   ],
   "source": [
    "df_packet.info()"
   ]
  },
  {
   "cell_type": "code",
   "execution_count": 27,
   "metadata": {},
   "outputs": [
    {
     "data": {
      "text/html": [
       "<div>\n",
       "<style scoped>\n",
       "    .dataframe tbody tr th:only-of-type {\n",
       "        vertical-align: middle;\n",
       "    }\n",
       "\n",
       "    .dataframe tbody tr th {\n",
       "        vertical-align: top;\n",
       "    }\n",
       "\n",
       "    .dataframe thead th {\n",
       "        text-align: right;\n",
       "    }\n",
       "</style>\n",
       "<table border=\"1\" class=\"dataframe\">\n",
       "  <thead>\n",
       "    <tr style=\"text-align: right;\">\n",
       "      <th></th>\n",
       "      <th>smallpacket</th>\n",
       "      <th>packetratio</th>\n",
       "      <th>initlen</th>\n",
       "      <th>Botresp</th>\n",
       "      <th>label</th>\n",
       "    </tr>\n",
       "  </thead>\n",
       "  <tbody>\n",
       "    <tr>\n",
       "      <th>smallpacket</th>\n",
       "      <td>1.000000</td>\n",
       "      <td>0.184828</td>\n",
       "      <td>-0.054337</td>\n",
       "      <td>-0.125901</td>\n",
       "      <td>-0.031557</td>\n",
       "    </tr>\n",
       "    <tr>\n",
       "      <th>packetratio</th>\n",
       "      <td>0.184828</td>\n",
       "      <td>1.000000</td>\n",
       "      <td>-0.217304</td>\n",
       "      <td>-0.923651</td>\n",
       "      <td>-0.010927</td>\n",
       "    </tr>\n",
       "    <tr>\n",
       "      <th>initlen</th>\n",
       "      <td>-0.054337</td>\n",
       "      <td>-0.217304</td>\n",
       "      <td>1.000000</td>\n",
       "      <td>0.246349</td>\n",
       "      <td>0.038093</td>\n",
       "    </tr>\n",
       "    <tr>\n",
       "      <th>Botresp</th>\n",
       "      <td>-0.125901</td>\n",
       "      <td>-0.923651</td>\n",
       "      <td>0.246349</td>\n",
       "      <td>1.000000</td>\n",
       "      <td>0.036058</td>\n",
       "    </tr>\n",
       "    <tr>\n",
       "      <th>label</th>\n",
       "      <td>-0.031557</td>\n",
       "      <td>-0.010927</td>\n",
       "      <td>0.038093</td>\n",
       "      <td>0.036058</td>\n",
       "      <td>1.000000</td>\n",
       "    </tr>\n",
       "  </tbody>\n",
       "</table>\n",
       "</div>"
      ],
      "text/plain": [
       "             smallpacket  packetratio   initlen   Botresp     label\n",
       "smallpacket     1.000000     0.184828 -0.054337 -0.125901 -0.031557\n",
       "packetratio     0.184828     1.000000 -0.217304 -0.923651 -0.010927\n",
       "initlen        -0.054337    -0.217304  1.000000  0.246349  0.038093\n",
       "Botresp        -0.125901    -0.923651  0.246349  1.000000  0.036058\n",
       "label          -0.031557    -0.010927  0.038093  0.036058  1.000000"
      ]
     },
     "execution_count": 27,
     "metadata": {},
     "output_type": "execute_result"
    }
   ],
   "source": [
    "df_packet.drop(['proto'],1).corr()"
   ]
  },
  {
   "cell_type": "code",
   "execution_count": 28,
   "metadata": {},
   "outputs": [],
   "source": [
    "df_packet_unique =  df_packet.drop_duplicates()"
   ]
  },
  {
   "cell_type": "code",
   "execution_count": 29,
   "metadata": {},
   "outputs": [
    {
     "name": "stdout",
     "output_type": "stream",
     "text": [
      "(5642, 6)\n",
      "(128378, 6)\n"
     ]
    }
   ],
   "source": [
    "print(df_packet_unique.shape)\n",
    "print(df_packet.shape)"
   ]
  },
  {
   "cell_type": "code",
   "execution_count": 11,
   "metadata": {},
   "outputs": [
    {
     "data": {
      "text/html": [
       "<div>\n",
       "<style scoped>\n",
       "    .dataframe tbody tr th:only-of-type {\n",
       "        vertical-align: middle;\n",
       "    }\n",
       "\n",
       "    .dataframe tbody tr th {\n",
       "        vertical-align: top;\n",
       "    }\n",
       "\n",
       "    .dataframe thead th {\n",
       "        text-align: right;\n",
       "    }\n",
       "</style>\n",
       "<table border=\"1\" class=\"dataframe\">\n",
       "  <thead>\n",
       "    <tr style=\"text-align: right;\">\n",
       "      <th></th>\n",
       "      <th>smallpacket</th>\n",
       "      <th>packetratio</th>\n",
       "      <th>initlen</th>\n",
       "      <th>Botresp</th>\n",
       "      <th>label</th>\n",
       "    </tr>\n",
       "  </thead>\n",
       "  <tbody>\n",
       "    <tr>\n",
       "      <th>smallpacket</th>\n",
       "      <td>1.000000</td>\n",
       "      <td>0.189069</td>\n",
       "      <td>0.008625</td>\n",
       "      <td>-0.121812</td>\n",
       "      <td>-0.015109</td>\n",
       "    </tr>\n",
       "    <tr>\n",
       "      <th>packetratio</th>\n",
       "      <td>0.189069</td>\n",
       "      <td>1.000000</td>\n",
       "      <td>-0.068043</td>\n",
       "      <td>-0.766092</td>\n",
       "      <td>-0.047810</td>\n",
       "    </tr>\n",
       "    <tr>\n",
       "      <th>initlen</th>\n",
       "      <td>0.008625</td>\n",
       "      <td>-0.068043</td>\n",
       "      <td>1.000000</td>\n",
       "      <td>0.110268</td>\n",
       "      <td>0.017557</td>\n",
       "    </tr>\n",
       "    <tr>\n",
       "      <th>Botresp</th>\n",
       "      <td>-0.121812</td>\n",
       "      <td>-0.766092</td>\n",
       "      <td>0.110268</td>\n",
       "      <td>1.000000</td>\n",
       "      <td>0.088283</td>\n",
       "    </tr>\n",
       "    <tr>\n",
       "      <th>label</th>\n",
       "      <td>-0.015109</td>\n",
       "      <td>-0.047810</td>\n",
       "      <td>0.017557</td>\n",
       "      <td>0.088283</td>\n",
       "      <td>1.000000</td>\n",
       "    </tr>\n",
       "  </tbody>\n",
       "</table>\n",
       "</div>"
      ],
      "text/plain": [
       "             smallpacket  packetratio   initlen   Botresp     label\n",
       "smallpacket     1.000000     0.189069  0.008625 -0.121812 -0.015109\n",
       "packetratio     0.189069     1.000000 -0.068043 -0.766092 -0.047810\n",
       "initlen         0.008625    -0.068043  1.000000  0.110268  0.017557\n",
       "Botresp        -0.121812    -0.766092  0.110268  1.000000  0.088283\n",
       "label          -0.015109    -0.047810  0.017557  0.088283  1.000000"
      ]
     },
     "execution_count": 11,
     "metadata": {},
     "output_type": "execute_result"
    }
   ],
   "source": [
    "df_packet_unique.drop(['proto'],1).corr()"
   ]
  },
  {
   "cell_type": "code",
   "execution_count": 32,
   "metadata": {},
   "outputs": [
    {
     "data": {
      "text/plain": [
       "(array([2.67834521e+03, 5.39548473e+00, 3.48599882e+01, 1.41649187e+00]),\n",
       " array([0.00000000e+00, 2.01889170e-02, 3.54287350e-09, 2.33981688e-01]))"
      ]
     },
     "execution_count": 32,
     "metadata": {},
     "output_type": "execute_result"
    }
   ],
   "source": [
    "from sklearn import feature_selection\n",
    "feature_selection.chi2(df_packet_unique.drop(['proto','label'],1),df_packet_unique['label'].astype('int'))"
   ]
  },
  {
   "cell_type": "code",
   "execution_count": 46,
   "metadata": {},
   "outputs": [
    {
     "data": {
      "text/plain": [
       "(array([ 1.28779086, 12.92127609,  1.73902832, 44.30262696]),\n",
       " array([2.56503692e-01, 3.27643670e-04, 1.87315536e-01, 3.07963174e-11]))"
      ]
     },
     "execution_count": 46,
     "metadata": {},
     "output_type": "execute_result"
    }
   ],
   "source": [
    "from sklearn.feature_selection import SelectKBest,f_classif\n",
    "X,y = (df_packet_unique.drop(['proto','label'],1),df_packet_unique['label'].astype('int'))\n",
    "SelectKBest(f_classif,k='all').fit(X,y).score_func(X,y)"
   ]
  },
  {
   "cell_type": "code",
   "execution_count": 47,
   "metadata": {},
   "outputs": [
    {
     "data": {
      "text/plain": [
       "array([0.09190278, 0.13622245, 0.06329966, 0.15190608])"
      ]
     },
     "execution_count": 47,
     "metadata": {},
     "output_type": "execute_result"
    }
   ],
   "source": [
    "from sklearn.feature_selection import SelectKBest,mutual_info_classif\n",
    "X,y = (df_packet_unique.drop(['proto','label'],1),df_packet_unique['label'].astype('int'))\n",
    "SelectKBest(mutual_info_classif,k='all').fit(X,y).score_func(X,y)"
   ]
  },
  {
   "cell_type": "code",
   "execution_count": 49,
   "metadata": {},
   "outputs": [],
   "source": [
    "df_corr = df_packet_unique.drop(['proto','smallpacket','initlen'],1)"
   ]
  },
  {
   "cell_type": "code",
   "execution_count": 50,
   "metadata": {},
   "outputs": [
    {
     "data": {
      "text/html": [
       "<div>\n",
       "<style scoped>\n",
       "    .dataframe tbody tr th:only-of-type {\n",
       "        vertical-align: middle;\n",
       "    }\n",
       "\n",
       "    .dataframe tbody tr th {\n",
       "        vertical-align: top;\n",
       "    }\n",
       "\n",
       "    .dataframe thead th {\n",
       "        text-align: right;\n",
       "    }\n",
       "</style>\n",
       "<table border=\"1\" class=\"dataframe\">\n",
       "  <thead>\n",
       "    <tr style=\"text-align: right;\">\n",
       "      <th></th>\n",
       "      <th>packetratio</th>\n",
       "      <th>Botresp</th>\n",
       "      <th>label</th>\n",
       "    </tr>\n",
       "  </thead>\n",
       "  <tbody>\n",
       "    <tr>\n",
       "      <th>0</th>\n",
       "      <td>0.000000</td>\n",
       "      <td>1.000000</td>\n",
       "      <td>1.0</td>\n",
       "    </tr>\n",
       "    <tr>\n",
       "      <th>1</th>\n",
       "      <td>0.618034</td>\n",
       "      <td>0.618034</td>\n",
       "      <td>1.0</td>\n",
       "    </tr>\n",
       "    <tr>\n",
       "      <th>2</th>\n",
       "      <td>0.589054</td>\n",
       "      <td>0.629305</td>\n",
       "      <td>0.0</td>\n",
       "    </tr>\n",
       "    <tr>\n",
       "      <th>3</th>\n",
       "      <td>0.618034</td>\n",
       "      <td>0.618034</td>\n",
       "      <td>1.0</td>\n",
       "    </tr>\n",
       "    <tr>\n",
       "      <th>4</th>\n",
       "      <td>0.572159</td>\n",
       "      <td>0.636068</td>\n",
       "      <td>0.0</td>\n",
       "    </tr>\n",
       "  </tbody>\n",
       "</table>\n",
       "</div>"
      ],
      "text/plain": [
       "   packetratio   Botresp  label\n",
       "0     0.000000  1.000000    1.0\n",
       "1     0.618034  0.618034    1.0\n",
       "2     0.589054  0.629305    0.0\n",
       "3     0.618034  0.618034    1.0\n",
       "4     0.572159  0.636068    0.0"
      ]
     },
     "execution_count": 50,
     "metadata": {},
     "output_type": "execute_result"
    }
   ],
   "source": [
    "df_corr.head()"
   ]
  },
  {
   "cell_type": "code",
   "execution_count": 51,
   "metadata": {},
   "outputs": [
    {
     "data": {
      "text/plain": [
       "0.0    3911\n",
       "1.0    1731\n",
       "Name: label, dtype: int64"
      ]
     },
     "execution_count": 51,
     "metadata": {},
     "output_type": "execute_result"
    }
   ],
   "source": [
    "df_corr['label'].value_counts()"
   ]
  },
  {
   "cell_type": "code",
   "execution_count": 56,
   "metadata": {},
   "outputs": [],
   "source": [
    "from sklearn.model_selection import train_test_split\n",
    "X_train,X_test,y_train,y_test = train_test_split(df_corr.drop(['label'],1),df_corr['label'],test_size=0.3,random_state=123)"
   ]
  },
  {
   "cell_type": "code",
   "execution_count": 57,
   "metadata": {},
   "outputs": [
    {
     "name": "stdout",
     "output_type": "stream",
     "text": [
      "0.0    2711\n",
      "1.0    1238\n",
      "Name: label, dtype: int64\n",
      "0.0    1200\n",
      "1.0     493\n",
      "Name: label, dtype: int64\n"
     ]
    }
   ],
   "source": [
    "print(y_train.value_counts())\n",
    "print(y_test.value_counts())"
   ]
  },
  {
   "cell_type": "code",
   "execution_count": 58,
   "metadata": {},
   "outputs": [],
   "source": [
    "from sklearn.linear_model import LogisticRegression"
   ]
  },
  {
   "cell_type": "code",
   "execution_count": 62,
   "metadata": {},
   "outputs": [],
   "source": [
    "lr = LogisticRegression(random_state=123,class_weight='balanced',verbose=True)"
   ]
  },
  {
   "cell_type": "code",
   "execution_count": 63,
   "metadata": {},
   "outputs": [
    {
     "name": "stdout",
     "output_type": "stream",
     "text": [
      "[LibLinear]"
     ]
    },
    {
     "data": {
      "text/plain": [
       "LogisticRegression(C=1.0, class_weight='balanced', dual=False,\n",
       "          fit_intercept=True, intercept_scaling=1, max_iter=100,\n",
       "          multi_class='warn', n_jobs=None, penalty='l2', random_state=123,\n",
       "          solver='warn', tol=0.0001, verbose=True, warm_start=False)"
      ]
     },
     "execution_count": 63,
     "metadata": {},
     "output_type": "execute_result"
    }
   ],
   "source": [
    "lr.fit(X_train,y_train)"
   ]
  },
  {
   "cell_type": "code",
   "execution_count": 64,
   "metadata": {},
   "outputs": [],
   "source": [
    "pred = lr.predict(X_test)"
   ]
  },
  {
   "cell_type": "code",
   "execution_count": 65,
   "metadata": {},
   "outputs": [
    {
     "name": "stdout",
     "output_type": "stream",
     "text": [
      "[[703 497]\n",
      " [271 222]]\n",
      "              precision    recall  f1-score   support\n",
      "\n",
      "         0.0       0.72      0.59      0.65      1200\n",
      "         1.0       0.31      0.45      0.37       493\n",
      "\n",
      "   micro avg       0.55      0.55      0.55      1693\n",
      "   macro avg       0.52      0.52      0.51      1693\n",
      "weighted avg       0.60      0.55      0.57      1693\n",
      "\n"
     ]
    }
   ],
   "source": [
    "from sklearn.metrics import classification_report,confusion_matrix\n",
    "print(confusion_matrix(y_test,pred))\n",
    "print(classification_report(y_test,pred))"
   ]
  },
  {
   "cell_type": "code",
   "execution_count": 78,
   "metadata": {},
   "outputs": [
    {
     "name": "stdout",
     "output_type": "stream",
     "text": [
      "Iteration 1, loss = 0.68490730\n",
      "Iteration 2, loss = 0.62999301\n",
      "Iteration 3, loss = 0.62212077\n",
      "Iteration 4, loss = 0.62035246\n",
      "Iteration 5, loss = 0.61874387\n",
      "Iteration 6, loss = 0.61791816\n",
      "Iteration 7, loss = 0.61646399\n",
      "Iteration 8, loss = 0.61581522\n",
      "Iteration 9, loss = 0.61519564\n",
      "Iteration 10, loss = 0.61452682\n",
      "Iteration 11, loss = 0.61455133\n",
      "Iteration 12, loss = 0.61437625\n",
      "Iteration 13, loss = 0.61361685\n",
      "Iteration 14, loss = 0.61353240\n",
      "Iteration 15, loss = 0.61354236\n",
      "Iteration 16, loss = 0.61312275\n",
      "Iteration 17, loss = 0.61289260\n",
      "Iteration 18, loss = 0.61253669\n",
      "Iteration 19, loss = 0.61238976\n",
      "Iteration 20, loss = 0.61208707\n",
      "Iteration 21, loss = 0.61188516\n",
      "Iteration 22, loss = 0.61176125\n",
      "Iteration 23, loss = 0.61155146\n",
      "Iteration 24, loss = 0.61139072\n",
      "Iteration 25, loss = 0.61123780\n",
      "Iteration 26, loss = 0.61054725\n",
      "Iteration 27, loss = 0.61024470\n",
      "Iteration 28, loss = 0.61048971\n",
      "Iteration 29, loss = 0.61000881\n",
      "Iteration 30, loss = 0.60938414\n",
      "Iteration 31, loss = 0.60974181\n",
      "Iteration 32, loss = 0.60853625\n",
      "Iteration 33, loss = 0.60834688\n",
      "Iteration 34, loss = 0.60843967\n",
      "Iteration 35, loss = 0.60775224\n",
      "Iteration 36, loss = 0.60729790\n",
      "Iteration 37, loss = 0.60682385\n",
      "Iteration 38, loss = 0.60680177\n",
      "Iteration 39, loss = 0.60604427\n",
      "Iteration 40, loss = 0.60658715\n",
      "Iteration 41, loss = 0.60597079\n",
      "Iteration 42, loss = 0.60509608\n",
      "Iteration 43, loss = 0.60482428\n",
      "Iteration 44, loss = 0.60428572\n",
      "Iteration 45, loss = 0.60343909\n",
      "Iteration 46, loss = 0.60331109\n",
      "Iteration 47, loss = 0.60272228\n",
      "Iteration 48, loss = 0.60275677\n",
      "Iteration 49, loss = 0.60209272\n",
      "Iteration 50, loss = 0.60152264\n",
      "Iteration 51, loss = 0.60074421\n",
      "Iteration 52, loss = 0.60093643\n",
      "Iteration 53, loss = 0.60077246\n",
      "Iteration 54, loss = 0.59963878\n",
      "Iteration 55, loss = 0.59951487\n",
      "Iteration 56, loss = 0.59942037\n",
      "Iteration 57, loss = 0.59836831\n",
      "Iteration 58, loss = 0.59810386\n",
      "Iteration 59, loss = 0.59797874\n",
      "Iteration 60, loss = 0.59727482\n",
      "Iteration 61, loss = 0.59854810\n",
      "Iteration 62, loss = 0.59628872\n",
      "Iteration 63, loss = 0.59646613\n",
      "Iteration 64, loss = 0.59576307\n",
      "Iteration 65, loss = 0.59464365\n",
      "Iteration 66, loss = 0.59483869\n",
      "Iteration 67, loss = 0.59461625\n",
      "Iteration 68, loss = 0.59314545\n",
      "Iteration 69, loss = 0.59380424\n",
      "Iteration 70, loss = 0.59248380\n",
      "Iteration 71, loss = 0.59269581\n",
      "Iteration 72, loss = 0.59133813\n",
      "Iteration 73, loss = 0.59070138\n",
      "Iteration 74, loss = 0.59113451\n",
      "Iteration 75, loss = 0.58960367\n",
      "Iteration 76, loss = 0.59021695\n",
      "Iteration 77, loss = 0.58952286\n",
      "Iteration 78, loss = 0.58973177\n",
      "Iteration 79, loss = 0.58887367\n",
      "Iteration 80, loss = 0.58748931\n",
      "Iteration 81, loss = 0.58704938\n",
      "Iteration 82, loss = 0.58688450\n",
      "Iteration 83, loss = 0.58668304\n",
      "Iteration 84, loss = 0.58711444\n",
      "Iteration 85, loss = 0.58842310\n",
      "Iteration 86, loss = 0.58678374\n",
      "Iteration 87, loss = 0.58452573\n",
      "Iteration 88, loss = 0.58559486\n",
      "Iteration 89, loss = 0.58639156\n",
      "Iteration 90, loss = 0.58445314\n",
      "Iteration 91, loss = 0.58445605\n",
      "Iteration 92, loss = 0.58308481\n",
      "Iteration 93, loss = 0.58421504\n",
      "Iteration 94, loss = 0.58258331\n",
      "Iteration 95, loss = 0.58140249\n",
      "Iteration 96, loss = 0.58236025\n",
      "Iteration 97, loss = 0.58243808\n",
      "Iteration 98, loss = 0.58180665\n",
      "Iteration 99, loss = 0.58156372\n",
      "Iteration 100, loss = 0.58034965\n",
      "Iteration 101, loss = 0.58053121\n",
      "Iteration 102, loss = 0.57964415\n",
      "Iteration 103, loss = 0.58070822\n",
      "Iteration 104, loss = 0.57937025\n",
      "Iteration 105, loss = 0.57974731\n",
      "Iteration 106, loss = 0.57835405\n",
      "Iteration 107, loss = 0.57809973\n",
      "Iteration 108, loss = 0.57903019\n",
      "Iteration 109, loss = 0.57843442\n",
      "Iteration 110, loss = 0.57732800\n",
      "Iteration 111, loss = 0.57833098\n",
      "Iteration 112, loss = 0.57841172\n",
      "Iteration 113, loss = 0.57860981\n",
      "Iteration 114, loss = 0.57722574\n",
      "Iteration 115, loss = 0.57715417\n",
      "Iteration 116, loss = 0.57666676\n",
      "Iteration 117, loss = 0.57806678\n",
      "Iteration 118, loss = 0.57554679\n",
      "Iteration 119, loss = 0.57696102\n",
      "Iteration 120, loss = 0.57676114\n",
      "Iteration 121, loss = 0.57467637\n",
      "Iteration 122, loss = 0.57578296\n",
      "Iteration 123, loss = 0.57485286\n",
      "Iteration 124, loss = 0.57415240\n",
      "Iteration 125, loss = 0.57469257\n",
      "Iteration 126, loss = 0.57376703\n",
      "Iteration 127, loss = 0.57495066\n",
      "Iteration 128, loss = 0.57502262\n",
      "Iteration 129, loss = 0.57493870\n",
      "Iteration 130, loss = 0.57478103\n",
      "Iteration 131, loss = 0.57355919\n",
      "Iteration 132, loss = 0.57471527\n",
      "Iteration 133, loss = 0.57343657\n",
      "Iteration 134, loss = 0.57362121\n",
      "Iteration 135, loss = 0.57247267\n",
      "Iteration 136, loss = 0.57260681\n",
      "Iteration 137, loss = 0.57277127\n",
      "Iteration 138, loss = 0.57185226\n",
      "Iteration 139, loss = 0.57140648\n",
      "Iteration 140, loss = 0.57186083\n",
      "Iteration 141, loss = 0.57106010\n",
      "Iteration 142, loss = 0.57184021\n",
      "Iteration 143, loss = 0.57150022\n",
      "Iteration 144, loss = 0.57189946\n",
      "Iteration 145, loss = 0.57115814\n",
      "Iteration 146, loss = 0.57202693\n",
      "Iteration 147, loss = 0.57492460\n",
      "Iteration 148, loss = 0.57497548\n",
      "Iteration 149, loss = 0.57123106\n",
      "Iteration 150, loss = 0.57073333\n",
      "Iteration 151, loss = 0.57126536\n",
      "Iteration 152, loss = 0.57129759\n",
      "Iteration 153, loss = 0.57046331\n",
      "Iteration 154, loss = 0.57026486\n",
      "Iteration 155, loss = 0.57021821\n",
      "Iteration 156, loss = 0.57026821\n",
      "Iteration 157, loss = 0.56985135\n",
      "Iteration 158, loss = 0.56954917\n",
      "Iteration 159, loss = 0.56908548\n",
      "Iteration 160, loss = 0.56932547\n",
      "Iteration 161, loss = 0.56919742\n",
      "Iteration 162, loss = 0.56978863\n",
      "Iteration 163, loss = 0.57051550\n",
      "Iteration 164, loss = 0.57025170\n",
      "Iteration 165, loss = 0.56835011\n",
      "Iteration 166, loss = 0.56946325\n",
      "Iteration 167, loss = 0.56914776\n",
      "Iteration 168, loss = 0.56842348\n",
      "Iteration 169, loss = 0.56890522\n",
      "Iteration 170, loss = 0.57035921\n",
      "Iteration 171, loss = 0.56935148\n",
      "Iteration 172, loss = 0.56894026\n",
      "Iteration 173, loss = 0.56902822\n",
      "Iteration 174, loss = 0.56715473\n",
      "Iteration 175, loss = 0.56862515\n",
      "Iteration 176, loss = 0.56820974\n",
      "Iteration 177, loss = 0.56854441\n",
      "Iteration 178, loss = 0.56853370\n",
      "Iteration 179, loss = 0.56880976\n",
      "Iteration 180, loss = 0.57024370\n",
      "Iteration 181, loss = 0.56757011\n",
      "Iteration 182, loss = 0.56749776\n",
      "Iteration 183, loss = 0.56905989\n",
      "Iteration 184, loss = 0.56814081\n",
      "Iteration 185, loss = 0.56915122\n",
      "Training loss did not improve more than tol=0.000100 for 10 consecutive epochs. Stopping.\n"
     ]
    },
    {
     "data": {
      "text/plain": [
       "MLPClassifier(activation='relu', alpha=0.0001, batch_size='auto', beta_1=0.9,\n",
       "       beta_2=0.999, early_stopping=False, epsilon=1e-08,\n",
       "       hidden_layer_sizes=(50, 40), learning_rate='constant',\n",
       "       learning_rate_init=0.001, max_iter=200, momentum=0.9,\n",
       "       n_iter_no_change=10, nesterovs_momentum=True, power_t=0.5,\n",
       "       random_state=123, shuffle=True, solver='adam', tol=0.0001,\n",
       "       validation_fraction=0.1, verbose=True, warm_start=False)"
      ]
     },
     "execution_count": 78,
     "metadata": {},
     "output_type": "execute_result"
    }
   ],
   "source": [
    "from sklearn.neural_network import MLPClassifier\n",
    "mlp = MLPClassifier(hidden_layer_sizes=(50,40),verbose=True,random_state=123)\n",
    "mlp.fit(X_train,y_train)"
   ]
  },
  {
   "cell_type": "code",
   "execution_count": 79,
   "metadata": {},
   "outputs": [],
   "source": [
    "pred = mlp.predict(X_test)"
   ]
  },
  {
   "cell_type": "code",
   "execution_count": 80,
   "metadata": {
    "scrolled": true
   },
   "outputs": [
    {
     "name": "stdout",
     "output_type": "stream",
     "text": [
      "[[1118   82]\n",
      " [ 378  115]]\n",
      "              precision    recall  f1-score   support\n",
      "\n",
      "         0.0       0.75      0.93      0.83      1200\n",
      "         1.0       0.58      0.23      0.33       493\n",
      "\n",
      "   micro avg       0.73      0.73      0.73      1693\n",
      "   macro avg       0.67      0.58      0.58      1693\n",
      "weighted avg       0.70      0.73      0.68      1693\n",
      "\n"
     ]
    }
   ],
   "source": [
    "from sklearn.metrics import classification_report,confusion_matrix\n"
   ]
  },
  {
   "cell_type": "code",
   "execution_count": 81,
   "metadata": {},
   "outputs": [],
   "source": [
    "def report(y_test,pred):\n",
    "    print(confusion_matrix(y_test,pred))\n",
    "    print(classification_report(y_test,pred))"
   ]
  },
  {
   "cell_type": "code",
   "execution_count": 82,
   "metadata": {},
   "outputs": [],
   "source": [
    "X_packet_train,X_packet_test,y_packet_train,y_packet_test = train_test_split(df_packet.drop(['label','proto'],1),df_packet['label'],test_size=0.3,random_state=123)"
   ]
  },
  {
   "cell_type": "code",
   "execution_count": 83,
   "metadata": {
    "scrolled": true
   },
   "outputs": [
    {
     "name": "stdout",
     "output_type": "stream",
     "text": [
      "Iteration 1, loss = 0.65678903\n",
      "Iteration 2, loss = 0.58384133\n",
      "Iteration 3, loss = 0.51859259\n",
      "Iteration 4, loss = 0.48908604\n",
      "Iteration 5, loss = 0.46307944\n",
      "Iteration 6, loss = 0.45286477\n",
      "Iteration 7, loss = 0.43134487\n",
      "Iteration 8, loss = 0.40943266\n",
      "Iteration 9, loss = 0.40142575\n",
      "Iteration 10, loss = 0.39335394\n",
      "Iteration 11, loss = 0.38076854\n",
      "Iteration 12, loss = 0.37711979\n",
      "Iteration 13, loss = 0.38273457\n",
      "Iteration 14, loss = 0.35882716\n",
      "Iteration 15, loss = 0.37102526\n",
      "Iteration 16, loss = 0.35421079\n",
      "Iteration 17, loss = 0.35116719\n",
      "Iteration 18, loss = 0.34499374\n",
      "Iteration 19, loss = 0.34986405\n",
      "Iteration 20, loss = 0.33313701\n",
      "Iteration 21, loss = 0.32932145\n",
      "Iteration 22, loss = 0.33399470\n",
      "Iteration 23, loss = 0.31699130\n",
      "Iteration 24, loss = 0.31708506\n",
      "Iteration 25, loss = 0.31762126\n",
      "Iteration 26, loss = 0.30741351\n",
      "Iteration 27, loss = 0.30081305\n",
      "Iteration 28, loss = 0.30173599\n",
      "Iteration 29, loss = 0.29191143\n",
      "Iteration 30, loss = 0.28662026\n",
      "Iteration 31, loss = 0.28042619\n",
      "Iteration 32, loss = 0.26574500\n",
      "Iteration 33, loss = 0.26148245\n",
      "Iteration 34, loss = 0.25818909\n",
      "Iteration 35, loss = 0.25273272\n",
      "Iteration 36, loss = 0.25919113\n",
      "Iteration 37, loss = 0.23903766\n",
      "Iteration 38, loss = 0.23901465\n",
      "Iteration 39, loss = 0.24143182\n",
      "Iteration 40, loss = 0.23027149\n",
      "Iteration 41, loss = 0.23553072\n",
      "Iteration 42, loss = 0.23190938\n",
      "Iteration 43, loss = 0.22376705\n",
      "Iteration 44, loss = 0.22836262\n",
      "Iteration 45, loss = 0.22300189\n",
      "Iteration 46, loss = 0.22415502\n",
      "Iteration 47, loss = 0.21765464\n",
      "Iteration 48, loss = 0.21829069\n",
      "Iteration 49, loss = 0.21307818\n",
      "Iteration 50, loss = 0.21728009\n",
      "Iteration 51, loss = 0.21748761\n",
      "Iteration 52, loss = 0.20872259\n",
      "Iteration 53, loss = 0.21588268\n",
      "Iteration 54, loss = 0.20943679\n",
      "Iteration 55, loss = 0.20713741\n",
      "Iteration 56, loss = 0.20957382\n",
      "Iteration 57, loss = 0.20742823\n",
      "Iteration 58, loss = 0.20946561\n",
      "Iteration 59, loss = 0.20502006\n",
      "Iteration 60, loss = 0.20077566\n",
      "Iteration 61, loss = 0.20581556\n",
      "Iteration 62, loss = 0.20541466\n",
      "Iteration 63, loss = 0.20371121\n",
      "Iteration 64, loss = 0.20231478\n",
      "Iteration 65, loss = 0.20532396\n",
      "Iteration 66, loss = 0.20148226\n",
      "Iteration 67, loss = 0.19931622\n",
      "Iteration 68, loss = 0.19696616\n",
      "Iteration 69, loss = 0.20299725\n",
      "Iteration 70, loss = 0.20188705\n",
      "Iteration 71, loss = 0.19763644\n",
      "Iteration 72, loss = 0.19831394\n",
      "Iteration 73, loss = 0.20162697\n",
      "Iteration 74, loss = 0.19833161\n",
      "Iteration 75, loss = 0.19724629\n",
      "Iteration 76, loss = 0.19592304\n",
      "Iteration 77, loss = 0.19903504\n",
      "Iteration 78, loss = 0.19657802\n",
      "Iteration 79, loss = 0.19563537\n",
      "Iteration 80, loss = 0.19802664\n",
      "Iteration 81, loss = 0.19571417\n",
      "Iteration 82, loss = 0.19558002\n",
      "Iteration 83, loss = 0.19041402\n",
      "Iteration 84, loss = 0.19364379\n",
      "Iteration 85, loss = 0.19422298\n",
      "Iteration 86, loss = 0.19118142\n",
      "Iteration 87, loss = 0.19273455\n",
      "Iteration 88, loss = 0.19253681\n",
      "Iteration 89, loss = 0.19109497\n",
      "Iteration 90, loss = 0.19136646\n",
      "Iteration 91, loss = 0.18993801\n",
      "Iteration 92, loss = 0.19094415\n",
      "Iteration 93, loss = 0.18836528\n",
      "Iteration 94, loss = 0.19068121\n",
      "Iteration 95, loss = 0.18770411\n",
      "Iteration 96, loss = 0.19099106\n",
      "Iteration 97, loss = 0.18682597\n",
      "Iteration 98, loss = 0.18783574\n",
      "Iteration 99, loss = 0.18695296\n",
      "Iteration 100, loss = 0.18554037\n",
      "Iteration 101, loss = 0.18990907\n",
      "Iteration 102, loss = 0.18441231\n",
      "Iteration 103, loss = 0.18648885\n",
      "Iteration 104, loss = 0.18550150\n",
      "Iteration 105, loss = 0.18524307\n",
      "Iteration 106, loss = 0.18543216\n",
      "Iteration 107, loss = 0.18474830\n",
      "Iteration 108, loss = 0.18384973\n",
      "Iteration 109, loss = 0.18863401\n",
      "Iteration 110, loss = 0.18543898\n",
      "Iteration 111, loss = 0.18267616\n",
      "Iteration 112, loss = 0.18103417\n",
      "Iteration 113, loss = 0.18506628\n",
      "Iteration 114, loss = 0.18110882\n",
      "Iteration 115, loss = 0.18295243\n",
      "Iteration 116, loss = 0.18046387\n",
      "Iteration 117, loss = 0.18320379\n",
      "Iteration 118, loss = 0.18251174\n",
      "Iteration 119, loss = 0.18357313\n",
      "Iteration 120, loss = 0.17968755\n",
      "Iteration 121, loss = 0.17845356\n",
      "Iteration 122, loss = 0.17950292\n",
      "Iteration 123, loss = 0.18265769\n",
      "Iteration 124, loss = 0.18099461\n",
      "Iteration 125, loss = 0.17889838\n",
      "Iteration 126, loss = 0.18047932\n",
      "Iteration 127, loss = 0.18383690\n",
      "Iteration 128, loss = 0.17911693\n",
      "Iteration 129, loss = 0.18214666\n",
      "Iteration 130, loss = 0.17817100\n",
      "Iteration 131, loss = 0.18005763\n",
      "Iteration 132, loss = 0.18032828\n",
      "Iteration 133, loss = 0.18144157\n",
      "Iteration 134, loss = 0.18068158\n",
      "Iteration 135, loss = 0.17831601\n",
      "Iteration 136, loss = 0.17845116\n",
      "Iteration 137, loss = 0.17729634\n",
      "Iteration 138, loss = 0.17989289\n",
      "Iteration 139, loss = 0.17997696\n",
      "Iteration 140, loss = 0.17858984\n",
      "Iteration 141, loss = 0.17788394\n",
      "Iteration 142, loss = 0.17664997\n",
      "Iteration 143, loss = 0.17769311\n",
      "Iteration 144, loss = 0.17693583\n",
      "Iteration 145, loss = 0.17848366\n",
      "Iteration 146, loss = 0.17698033\n",
      "Iteration 147, loss = 0.17888231\n",
      "Iteration 148, loss = 0.17985494\n",
      "Iteration 149, loss = 0.17615445\n",
      "Iteration 150, loss = 0.17532494\n",
      "Iteration 151, loss = 0.17756703\n",
      "Iteration 152, loss = 0.17742924\n",
      "Iteration 153, loss = 0.17573430\n",
      "Iteration 154, loss = 0.17707460\n",
      "Iteration 155, loss = 0.17758987\n",
      "Iteration 156, loss = 0.17596508\n",
      "Iteration 157, loss = 0.17499970\n",
      "Iteration 158, loss = 0.17478543\n",
      "Iteration 159, loss = 0.17537988\n",
      "Iteration 160, loss = 0.17422033\n",
      "Iteration 161, loss = 0.18957647\n",
      "Iteration 162, loss = 0.18585616\n",
      "Iteration 163, loss = 0.17964445\n",
      "Iteration 164, loss = 0.18427753\n",
      "Iteration 165, loss = 0.17873322\n",
      "Iteration 166, loss = 0.18201302\n",
      "Iteration 167, loss = 0.17813207\n",
      "Iteration 168, loss = 0.17815822\n",
      "Iteration 169, loss = 0.17629260\n",
      "Iteration 170, loss = 0.17720242\n",
      "Iteration 171, loss = 0.18429105\n",
      "Training loss did not improve more than tol=0.000100 for 10 consecutive epochs. Stopping.\n"
     ]
    },
    {
     "data": {
      "text/plain": [
       "MLPClassifier(activation='relu', alpha=0.0001, batch_size='auto', beta_1=0.9,\n",
       "       beta_2=0.999, early_stopping=False, epsilon=1e-08,\n",
       "       hidden_layer_sizes=(50, 40), learning_rate='constant',\n",
       "       learning_rate_init=0.001, max_iter=200, momentum=0.9,\n",
       "       n_iter_no_change=10, nesterovs_momentum=True, power_t=0.5,\n",
       "       random_state=123, shuffle=True, solver='adam', tol=0.0001,\n",
       "       validation_fraction=0.1, verbose=True, warm_start=False)"
      ]
     },
     "execution_count": 83,
     "metadata": {},
     "output_type": "execute_result"
    }
   ],
   "source": [
    "mlp = MLPClassifier(hidden_layer_sizes=(50,40),verbose=True,random_state=123)\n",
    "mlp.fit(X_packet_train,y_packet_train)"
   ]
  },
  {
   "cell_type": "code",
   "execution_count": 85,
   "metadata": {},
   "outputs": [
    {
     "name": "stdout",
     "output_type": "stream",
     "text": [
      "[[20328   892]\n",
      " [ 1341 15953]]\n",
      "              precision    recall  f1-score   support\n",
      "\n",
      "         0.0       0.94      0.96      0.95     21220\n",
      "         1.0       0.95      0.92      0.93     17294\n",
      "\n",
      "   micro avg       0.94      0.94      0.94     38514\n",
      "   macro avg       0.94      0.94      0.94     38514\n",
      "weighted avg       0.94      0.94      0.94     38514\n",
      "\n"
     ]
    }
   ],
   "source": [
    "pred = mlp.predict(X_packet_test)\n",
    "report(y_packet_test,pred)"
   ]
  },
  {
   "cell_type": "code",
   "execution_count": 87,
   "metadata": {},
   "outputs": [
    {
     "name": "stdout",
     "output_type": "stream",
     "text": [
      "0.0    49850\n",
      "1.0    40014\n",
      "Name: label, dtype: int64\n",
      "0.0    21220\n",
      "1.0    17294\n",
      "Name: label, dtype: int64\n"
     ]
    }
   ],
   "source": [
    "print(y_packet_train.value_counts())\n",
    "print(y_packet_test.value_counts())"
   ]
  },
  {
   "cell_type": "code",
   "execution_count": 88,
   "metadata": {
    "scrolled": true
   },
   "outputs": [
    {
     "data": {
      "text/html": [
       "<div>\n",
       "<style scoped>\n",
       "    .dataframe tbody tr th:only-of-type {\n",
       "        vertical-align: middle;\n",
       "    }\n",
       "\n",
       "    .dataframe tbody tr th {\n",
       "        vertical-align: top;\n",
       "    }\n",
       "\n",
       "    .dataframe thead th {\n",
       "        text-align: right;\n",
       "    }\n",
       "</style>\n",
       "<table border=\"1\" class=\"dataframe\">\n",
       "  <thead>\n",
       "    <tr style=\"text-align: right;\">\n",
       "      <th></th>\n",
       "      <th>proto</th>\n",
       "      <th>smallpacket</th>\n",
       "      <th>packetratio</th>\n",
       "      <th>initlen</th>\n",
       "      <th>Botresp</th>\n",
       "      <th>label</th>\n",
       "    </tr>\n",
       "  </thead>\n",
       "  <tbody>\n",
       "    <tr>\n",
       "      <th>0</th>\n",
       "      <td>6</td>\n",
       "      <td>3</td>\n",
       "      <td>0.000000</td>\n",
       "      <td>48</td>\n",
       "      <td>1.000000</td>\n",
       "      <td>1.0</td>\n",
       "    </tr>\n",
       "    <tr>\n",
       "      <th>1</th>\n",
       "      <td>6</td>\n",
       "      <td>5778</td>\n",
       "      <td>0.618034</td>\n",
       "      <td>48</td>\n",
       "      <td>0.618034</td>\n",
       "      <td>1.0</td>\n",
       "    </tr>\n",
       "    <tr>\n",
       "      <th>2</th>\n",
       "      <td>6</td>\n",
       "      <td>9349</td>\n",
       "      <td>0.589054</td>\n",
       "      <td>48</td>\n",
       "      <td>0.629305</td>\n",
       "      <td>0.0</td>\n",
       "    </tr>\n",
       "    <tr>\n",
       "      <th>3</th>\n",
       "      <td>6</td>\n",
       "      <td>5778</td>\n",
       "      <td>0.618034</td>\n",
       "      <td>48</td>\n",
       "      <td>0.618034</td>\n",
       "      <td>1.0</td>\n",
       "    </tr>\n",
       "    <tr>\n",
       "      <th>4</th>\n",
       "      <td>6</td>\n",
       "      <td>9349</td>\n",
       "      <td>0.572159</td>\n",
       "      <td>48</td>\n",
       "      <td>0.636068</td>\n",
       "      <td>0.0</td>\n",
       "    </tr>\n",
       "  </tbody>\n",
       "</table>\n",
       "</div>"
      ],
      "text/plain": [
       "   proto  smallpacket  packetratio  initlen   Botresp  label\n",
       "0      6            3     0.000000       48  1.000000    1.0\n",
       "1      6         5778     0.618034       48  0.618034    1.0\n",
       "2      6         9349     0.589054       48  0.629305    0.0\n",
       "3      6         5778     0.618034       48  0.618034    1.0\n",
       "4      6         9349     0.572159       48  0.636068    0.0"
      ]
     },
     "execution_count": 88,
     "metadata": {},
     "output_type": "execute_result"
    }
   ],
   "source": [
    "df_packet_unique.head()"
   ]
  },
  {
   "cell_type": "code",
   "execution_count": 89,
   "metadata": {},
   "outputs": [],
   "source": [
    "Xu_packet_train,Xu_packet_test,yu_packet_train,yu_packet_test = train_test_split(df_packet_unique.drop(['label','proto'],1),df_packet_unique['label'],test_size=0.3,random_state=123)"
   ]
  },
  {
   "cell_type": "code",
   "execution_count": 92,
   "metadata": {
    "scrolled": true
   },
   "outputs": [
    {
     "name": "stdout",
     "output_type": "stream",
     "text": [
      "Iteration 1, loss = 0.97297904\n",
      "Iteration 2, loss = 0.73601116\n",
      "Iteration 3, loss = 0.71274432\n",
      "Iteration 4, loss = 0.65376830\n",
      "Iteration 5, loss = 0.76925862\n",
      "Iteration 6, loss = 0.73381023\n",
      "Iteration 7, loss = 0.66662109\n",
      "Iteration 8, loss = 0.64033869\n",
      "Iteration 9, loss = 0.62999265\n",
      "Iteration 10, loss = 0.65958385\n",
      "Iteration 11, loss = 0.72488104\n",
      "Iteration 12, loss = 0.65632810\n",
      "Iteration 13, loss = 0.67692553\n",
      "Iteration 14, loss = 0.61501982\n",
      "Iteration 15, loss = 0.63337182\n",
      "Iteration 16, loss = 0.61518514\n",
      "Iteration 17, loss = 0.63551191\n",
      "Iteration 18, loss = 0.76752533\n",
      "Iteration 19, loss = 0.67684881\n",
      "Iteration 20, loss = 0.66052872\n",
      "Iteration 21, loss = 0.74140625\n",
      "Iteration 22, loss = 0.66549252\n",
      "Iteration 23, loss = 0.63387439\n",
      "Iteration 24, loss = 0.62664850\n",
      "Iteration 25, loss = 0.60911211\n",
      "Iteration 26, loss = 0.65624747\n",
      "Iteration 27, loss = 0.62034398\n",
      "Iteration 28, loss = 0.61083656\n",
      "Iteration 29, loss = 0.67366734\n",
      "Iteration 30, loss = 0.63495785\n",
      "Iteration 31, loss = 0.65185674\n",
      "Iteration 32, loss = 0.61498493\n",
      "Iteration 33, loss = 0.62077753\n",
      "Iteration 34, loss = 0.64470161\n",
      "Iteration 35, loss = 0.60787427\n",
      "Iteration 36, loss = 0.67308850\n",
      "Iteration 37, loss = 0.64536394\n",
      "Iteration 38, loss = 0.74257408\n",
      "Iteration 39, loss = 0.78209726\n",
      "Iteration 40, loss = 0.64543218\n",
      "Iteration 41, loss = 0.68960727\n",
      "Iteration 42, loss = 0.63262481\n",
      "Iteration 43, loss = 0.85765422\n",
      "Iteration 44, loss = 0.74522917\n",
      "Iteration 45, loss = 0.63345553\n",
      "Iteration 46, loss = 0.61949888\n",
      "Training loss did not improve more than tol=0.000100 for 10 consecutive epochs. Stopping.\n"
     ]
    },
    {
     "data": {
      "text/plain": [
       "MLPClassifier(activation='relu', alpha=0.0001, batch_size='auto', beta_1=0.9,\n",
       "       beta_2=0.999, early_stopping=False, epsilon=1e-08,\n",
       "       hidden_layer_sizes=(50, 30), learning_rate='constant',\n",
       "       learning_rate_init=0.001, max_iter=200, momentum=0.9,\n",
       "       n_iter_no_change=10, nesterovs_momentum=True, power_t=0.5,\n",
       "       random_state=123, shuffle=True, solver='adam', tol=0.0001,\n",
       "       validation_fraction=0.1, verbose=True, warm_start=False)"
      ]
     },
     "execution_count": 92,
     "metadata": {},
     "output_type": "execute_result"
    }
   ],
   "source": [
    "mlpu = MLPClassifier(hidden_layer_sizes=(20,30),verbose=True,random_state=123)\n",
    "mlpu.fit(Xu_packet_train,yu_packet_train)"
   ]
  },
  {
   "cell_type": "code",
   "execution_count": 93,
   "metadata": {},
   "outputs": [
    {
     "name": "stdout",
     "output_type": "stream",
     "text": [
      "[[1192    8]\n",
      " [ 481   12]]\n",
      "              precision    recall  f1-score   support\n",
      "\n",
      "         0.0       0.71      0.99      0.83      1200\n",
      "         1.0       0.60      0.02      0.05       493\n",
      "\n",
      "   micro avg       0.71      0.71      0.71      1693\n",
      "   macro avg       0.66      0.51      0.44      1693\n",
      "weighted avg       0.68      0.71      0.60      1693\n",
      "\n"
     ]
    }
   ],
   "source": [
    "pred = mlpu.predict(Xu_packet_test)\n",
    "report(yu_packet_test,pred)"
   ]
  },
  {
   "cell_type": "code",
   "execution_count": 94,
   "metadata": {},
   "outputs": [
    {
     "name": "stdout",
     "output_type": "stream",
     "text": [
      "0.0    2711\n",
      "1.0    1238\n",
      "Name: label, dtype: int64\n",
      "0.0    1200\n",
      "1.0     493\n",
      "Name: label, dtype: int64\n"
     ]
    }
   ],
   "source": [
    "print(yu_packet_train.value_counts())\n",
    "print(yu_packet_test.value_counts())"
   ]
  },
  {
   "cell_type": "code",
   "execution_count": null,
   "metadata": {},
   "outputs": [],
   "source": [
    "#                           precision  recall     f1       \n",
    "# packetratio, botresp       0.71      0.73      0.68\n",
    "# all 4                      0.68      0.71      0.60 \n",
    "# With duplication all 4     0.94      0.94      0.94"
   ]
  }
 ],
 "metadata": {
  "kernelspec": {
   "display_name": "Python 3",
   "language": "python",
   "name": "python3"
  },
  "language_info": {
   "codemirror_mode": {
    "name": "ipython",
    "version": 3
   },
   "file_extension": ".py",
   "mimetype": "text/x-python",
   "name": "python",
   "nbconvert_exporter": "python",
   "pygments_lexer": "ipython3",
   "version": "3.6.8"
  }
 },
 "nbformat": 4,
 "nbformat_minor": 2
}
